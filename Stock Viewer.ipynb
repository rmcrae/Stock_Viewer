{
 "cells": [
  {
   "cell_type": "code",
   "execution_count": 61,
   "id": "5fa6e666",
   "metadata": {},
   "outputs": [],
   "source": [
    "\n",
    "import pandas as pd\n",
    "from yahoo_fin import stock_info as si\n",
    "from bqplot import DateScale, LinearScale, Axis, Lines, Figure\n",
    "from bqplot.interacts import (FastIntervalSelector, IndexSelector,\n",
    "                             BrushIntervalSelector, BrushSelector, MultiSelector)\n",
    "from ipywidgets import ToggleButtons, VBox, HTML, SelectMultiple, Dropdown, HBox, Output, Checkbox\n",
    "import numpy as np\n",
    "import yfinance as yf"
   ]
  },
  {
   "cell_type": "markdown",
   "id": "e819a37c",
   "metadata": {},
   "source": [
    "# Robin's Simple Stock Viewer"
   ]
  },
  {
   "cell_type": "markdown",
   "id": "d6fad2ec",
   "metadata": {},
   "source": [
    "Use the dropdown box on the bottom left to select a ticker symbol.  This should contain all ticker symbols from NASDAQ that don't have rights issues, warrants, bankruptcy or first preferred status. \n",
    "(Aside:  The financial package I am using should allow me to get symbols from the S&P 500 and the Dow, as well as others, but it isn't working at the moment -- I had to stick with NASDAQ).  The middle dropdown allows selection of the type of data to display for the selected company.  The checkbox toggles the display (below the widgets) of the income statement from Yahoo financial data for the company.  (There are many, *many* possible financial items that could be displayed instead). Allow 5-15 seconds for the data to load, as it is actively scraped from websites as selected.\n",
    "\n",
    "The plot defaults to Amazon (AMZN) data, with 'adjusted close' value as the plotted data.  \n",
    "\n",
    "Click in the plot area to activate a data selector: moving the mouse up or down in the plot area with the selector 'active' will adjust the width of the selector.  Clicking again will lock the width, but still allow horizontal positioning of the selector.\n",
    "\n",
    "At the top of the plot, the selector reports how many days of data have been selected, the change in value from start to finish, and the % change for the selected interval.  (For demonstration purposes only; any statistic of the data could be reported here).\n",
    "\n",
    "\n",
    "\n"
   ]
  },
  {
   "cell_type": "code",
   "execution_count": 62,
   "id": "56364d92",
   "metadata": {},
   "outputs": [],
   "source": [
    "ticker_list = si.tickers_nasdaq()\n",
    "# exclude 5-char symbols for 'Rights issues', 'Warrants', 'Q bankruptcy', and 'Preferred first'\n",
    "# see https://levelup.gitconnected.com/how-to-get-all-stock-symbols-a73925c16a1b\n",
    "exclude = ['W', 'R', 'P', 'Q']\n",
    "removed = []\n",
    "saved = []\n",
    "for symbol in ticker_list:\n",
    "    if len(symbol) > 4 and symbol[-1] in exclude:\n",
    "        removed.append(symbol)\n",
    "    else:\n",
    "        saved.append(symbol)"
   ]
  },
  {
   "cell_type": "code",
   "execution_count": 63,
   "id": "cf221e74",
   "metadata": {},
   "outputs": [],
   "source": [
    "symbol = 'amzn'\n",
    "data = si.get_data(symbol)"
   ]
  },
  {
   "cell_type": "code",
   "execution_count": 64,
   "id": "64892479",
   "metadata": {},
   "outputs": [],
   "source": [
    "data_types = data.columns.to_list()[:-1]\n",
    "dates_actual = data.index.values\n",
    "dt_x_fast = DateScale()\n",
    "lin_y = LinearScale()\n",
    "prices = data['adjclose'].values\n",
    "x_ax = Axis(label='Date', scale=dt_x_fast)\n",
    "x_ay = Axis(label=(symbol + ' Price'), scale=lin_y, orientation='vertical')\n",
    "lc = Lines(x=dates_actual, y = prices, scales = {'x': dt_x_fast, 'y': lin_y}, colors = ['blue'])\n"
   ]
  },
  {
   "cell_type": "code",
   "execution_count": 65,
   "id": "1394e486",
   "metadata": {},
   "outputs": [],
   "source": [
    "intsel_fast = FastIntervalSelector(scale=dt_x_fast, marks=[lc])"
   ]
  },
  {
   "cell_type": "code",
   "execution_count": 66,
   "id": "ed2da8e1",
   "metadata": {},
   "outputs": [],
   "source": [
    "\n",
    "def date_interval_callback(change):\n",
    "    try:\n",
    "        start = change.new[0]\n",
    "        end = min(change.new[-1], len(lc.x))\n",
    "\n",
    "        days = (lc.x[end] - lc.x[start]).astype('timedelta64[D]') / np.timedelta64(1, 'D')\n",
    "\n",
    "        inc = lc.y[end] - lc.y[start]\n",
    "        perc_inc = inc * 100 / lc.y[start]\n",
    "\n",
    "        db_date.value = 'Over %d days increase of %.2f or %.2f%%' % (int(days), inc, perc_inc)\n",
    "    except IndexError:\n",
    "        db_date.value = \"no data yet\"\n",
    "    \n",
    "   \n",
    "def ticker_callback(change):\n",
    "    #global data\n",
    "    outbox.clear_output()\n",
    "    ticker = selTicker.value\n",
    "    data = si.get_data(ticker)\n",
    "    data_type = selType.value\n",
    "    lc.y = data[data_type].values\n",
    "    x_ay.label = \"# shares\" if data_type == \"volume\" else \"%s Price ($)\" % ticker.upper()\n",
    "    info = yf.Ticker(ticker).info\n",
    "    fig_fast_intsel.title = \"%s in %s sector\" % (info['shortName'],\n",
    "                                                info['sector'])\n",
    "    if check_info.value:\n",
    "        with outbox:\n",
    "            display(si.get_income_statement(ticker))\n",
    "    \n"
   ]
  },
  {
   "cell_type": "code",
   "execution_count": 67,
   "id": "3096a318",
   "metadata": {
    "scrolled": false
   },
   "outputs": [
    {
     "data": {
      "application/vnd.jupyter.widget-view+json": {
       "model_id": "7898ad2b06b2484885368b7a63759f34",
       "version_major": 2,
       "version_minor": 0
      },
      "text/plain": [
       "VBox(children=(HBox(children=(HTML(value='Starting value'),)), Figure(axes=[Axis(label='Date', scale=DateScale…"
      ]
     },
     "metadata": {},
     "output_type": "display_data"
    }
   ],
   "source": [
    "# widgets\n",
    "db_date = HTML()\n",
    "db_date.value = \"Starting value\"\n",
    "\n",
    "fig_fast_intsel = Figure(marks=[lc], axes=[x_ax, x_ay], title='Amazon Data',\n",
    "                         interaction=intsel_fast) #This is where we assign the interaction to this particular Figure\n",
    "\n",
    "selTicker = Dropdown(options = saved, value = 'AMZN', description = 'ticker')\n",
    "selType = Dropdown(options = data_types, value = 'adjclose', description = 'type')\n",
    "check_info = Checkbox(value=False, description = \"Show Income Statement\")\n",
    "\n",
    "\n",
    "# connections\n",
    "lc.observe(date_interval_callback, names = ['selected'])\n",
    "selTicker.observe(ticker_callback, names = 'value')\n",
    "selType.observe(ticker_callback, names = 'value')\n",
    "check_info.observe(ticker_callback, names = 'value')\n",
    "\n",
    "# arrange output\n",
    "lastline = HBox([selTicker, selType, check_info])\n",
    "firstline = HBox([db_date])\n",
    "outbox = Output(layout = {'border': '1px solid black'})\n",
    "VBox([firstline, fig_fast_intsel, lastline, outbox])"
   ]
  },
  {
   "cell_type": "code",
   "execution_count": null,
   "id": "5a726f1f",
   "metadata": {},
   "outputs": [],
   "source": [
    "%%html\n",
    "<style>\n",
    "div.input {\n",
    "    display:none;\n",
    "}\n",
    "</style>"
   ]
  }
 ],
 "metadata": {
  "kernelspec": {
   "display_name": "Python 3",
   "language": "python",
   "name": "python3"
  },
  "language_info": {
   "codemirror_mode": {
    "name": "ipython",
    "version": 3
   },
   "file_extension": ".py",
   "mimetype": "text/x-python",
   "name": "python",
   "nbconvert_exporter": "python",
   "pygments_lexer": "ipython3",
   "version": "3.8.8"
  }
 },
 "nbformat": 4,
 "nbformat_minor": 5
}
